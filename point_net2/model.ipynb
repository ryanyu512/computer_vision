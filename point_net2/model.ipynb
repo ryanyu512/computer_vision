{
 "cells": [
  {
   "cell_type": "code",
   "execution_count": 1,
   "metadata": {},
   "outputs": [],
   "source": [
    "from model import *"
   ]
  },
  {
   "cell_type": "code",
   "execution_count": 2,
   "metadata": {},
   "outputs": [
    {
     "name": "stdout",
     "output_type": "stream",
     "text": [
      "Metal device set to: Apple M1\n",
      "\n",
      "systemMemory: 8.00 GB\n",
      "maxCacheSize: 2.67 GB\n",
      "\n"
     ]
    },
    {
     "name": "stderr",
     "output_type": "stream",
     "text": [
      "2023-07-15 18:38:52.558541: I tensorflow/core/common_runtime/pluggable_device/pluggable_device_factory.cc:305] Could not identify NUMA node of platform GPU ID 0, defaulting to 0. Your kernel may not have been built with NUMA support.\n",
      "2023-07-15 18:38:52.559160: I tensorflow/core/common_runtime/pluggable_device/pluggable_device_factory.cc:271] Created TensorFlow device (/job:localhost/replica:0/task:0/device:GPU:0 with 0 MB memory) -> physical PluggableDevice (device: 0, name: METAL, pci bus id: <undefined>)\n"
     ]
    },
    {
     "name": "stdout",
     "output_type": "stream",
     "text": [
      "Model: \"model\"\n",
      "_________________________________________________________________\n",
      " Layer (type)                Output Shape              Param #   \n",
      "=================================================================\n",
      " pt_cloud (InputLayer)       [(None, None, 3)]         0         \n",
      "                                                                 \n",
      " t_net (t_net)               (None, None, 3)           801408    \n",
      "                                                                 \n",
      " tf.expand_dims (TFOpLambda)  (None, None, 1, 3)       0         \n",
      "                                                                 \n",
      " conv_class_3 (conv_class)   (None, None, 1, 64)       448       \n",
      "                                                                 \n",
      " conv_class_4 (conv_class)   (None, None, 1, 64)       4352      \n",
      "                                                                 \n",
      " tf.compat.v1.squeeze (TFOpL  (None, None, 64)         0         \n",
      " ambda)                                                          \n",
      "                                                                 \n",
      " t_net_1 (t_net)             (None, None, 64)          1851584   \n",
      "                                                                 \n",
      " tf.expand_dims_1 (TFOpLambd  (None, None, 1, 64)      0         \n",
      " a)                                                              \n",
      "                                                                 \n",
      " conv_class_8 (conv_class)   (None, None, 1, 64)       4352      \n",
      "                                                                 \n",
      " conv_class_9 (conv_class)   (None, None, 1, 128)      8704      \n",
      "                                                                 \n",
      " conv_class_10 (conv_class)  (None, None, 1, 1024)     135168    \n",
      "                                                                 \n",
      " tf.compat.v1.squeeze_1 (TFO  (None, None, 1024)       0         \n",
      " pLambda)                                                        \n",
      "                                                                 \n",
      " tf.math.reduce_max (TFOpLam  (None, 1024)             0         \n",
      " bda)                                                            \n",
      "                                                                 \n",
      " dense_class_4 (dense_class)  (None, 512)              526336    \n",
      "                                                                 \n",
      " dropout (Dropout)           (None, 512)               0         \n",
      "                                                                 \n",
      " dense_class_5 (dense_class)  (None, 256)              132096    \n",
      "                                                                 \n",
      " dropout_1 (Dropout)         (None, 256)               0         \n",
      "                                                                 \n",
      " dense_class_6 (dense_class)  (None, 40)               10280     \n",
      "                                                                 \n",
      "=================================================================\n",
      "Total params: 3,474,728\n",
      "Trainable params: 3,467,432\n",
      "Non-trainable params: 7,296\n",
      "_________________________________________________________________\n",
      "None\n"
     ]
    }
   ],
   "source": [
    "pt_net_cls = point_net_cls(bn_momentum = 0.99)\n",
    "print(pt_net_cls.summary())"
   ]
  },
  {
   "cell_type": "code",
   "execution_count": 3,
   "metadata": {},
   "outputs": [
    {
     "name": "stdout",
     "output_type": "stream",
     "text": [
      "Model: \"model_1\"\n",
      "__________________________________________________________________________________________________\n",
      " Layer (type)                   Output Shape         Param #     Connected to                     \n",
      "==================================================================================================\n",
      " pt_cloud (InputLayer)          [(None, 1024, 3)]    0           []                               \n",
      "                                                                                                  \n",
      " t_net_2 (t_net)                (None, 1024, 3)      801408      ['pt_cloud[0][0]']               \n",
      "                                                                                                  \n",
      " tf.expand_dims_2 (TFOpLambda)  (None, 1024, 1, 3)   0           ['t_net_2[0][0]']                \n",
      "                                                                                                  \n",
      " conv_class_14 (conv_class)     (None, 1024, 1, 64)  448         ['tf.expand_dims_2[0][0]']       \n",
      "                                                                                                  \n",
      " conv_class_15 (conv_class)     (None, 1024, 1, 64)  4352        ['conv_class_14[0][0]']          \n",
      "                                                                                                  \n",
      " tf.compat.v1.squeeze_2 (TFOpLa  (None, 1024, 64)    0           ['conv_class_15[0][0]']          \n",
      " mbda)                                                                                            \n",
      "                                                                                                  \n",
      " t_net_3 (t_net)                (None, 1024, 64)     1851584     ['tf.compat.v1.squeeze_2[0][0]'] \n",
      "                                                                                                  \n",
      " tf.expand_dims_3 (TFOpLambda)  (None, 1024, 1, 64)  0           ['t_net_3[0][0]']                \n",
      "                                                                                                  \n",
      " conv_class_19 (conv_class)     (None, 1024, 1, 64)  4352        ['tf.expand_dims_3[0][0]']       \n",
      "                                                                                                  \n",
      " conv_class_20 (conv_class)     (None, 1024, 1, 128  8704        ['conv_class_19[0][0]']          \n",
      "                                )                                                                 \n",
      "                                                                                                  \n",
      " conv_class_21 (conv_class)     (None, 1024, 1, 102  135168      ['conv_class_20[0][0]']          \n",
      "                                4)                                                                \n",
      "                                                                                                  \n",
      " tf.compat.v1.squeeze_3 (TFOpLa  (None, 1024, 1024)  0           ['conv_class_21[0][0]']          \n",
      " mbda)                                                                                            \n",
      "                                                                                                  \n",
      " tf.math.reduce_max_1 (TFOpLamb  (None, 1, 1024)     0           ['tf.compat.v1.squeeze_3[0][0]'] \n",
      " da)                                                                                              \n",
      "                                                                                                  \n",
      " tf.__operators__.getitem (Slic  (None, 1, 1, 1024)  0           ['tf.math.reduce_max_1[0][0]']   \n",
      " ingOpLambda)                                                                                     \n",
      "                                                                                                  \n",
      " tf.tile (TFOpLambda)           (None, 1024, 1, 102  0           ['tf.__operators__.getitem[0][0]'\n",
      "                                4)                               ]                                \n",
      "                                                                                                  \n",
      " tf.concat (TFOpLambda)         (None, 1024, 1, 108  0           ['tf.expand_dims_3[0][0]',       \n",
      "                                8)                                'tf.tile[0][0]']                \n",
      "                                                                                                  \n",
      " conv_class_22 (conv_class)     (None, 1024, 1, 512  559104      ['tf.concat[0][0]']              \n",
      "                                )                                                                 \n",
      "                                                                                                  \n",
      " conv_class_23 (conv_class)     (None, 1024, 1, 256  132096      ['conv_class_22[0][0]']          \n",
      "                                )                                                                 \n",
      "                                                                                                  \n",
      " conv_class_24 (conv_class)     (None, 1024, 1, 128  33280       ['conv_class_23[0][0]']          \n",
      "                                )                                                                 \n",
      "                                                                                                  \n",
      " conv_class_25 (conv_class)     (None, 1024, 1, 50)  6600        ['conv_class_24[0][0]']          \n",
      "                                                                                                  \n",
      "==================================================================================================\n",
      "Total params: 3,537,096\n",
      "Trainable params: 3,529,444\n",
      "Non-trainable params: 7,652\n",
      "__________________________________________________________________________________________________\n",
      "None\n"
     ]
    }
   ],
   "source": [
    "pt_net_seg = point_net_seg(bn_momentum = 0.99)\n",
    "print(pt_net_seg.summary())"
   ]
  }
 ],
 "metadata": {
  "kernelspec": {
   "display_name": "Python 3",
   "language": "python",
   "name": "python3"
  },
  "language_info": {
   "codemirror_mode": {
    "name": "ipython",
    "version": 3
   },
   "file_extension": ".py",
   "mimetype": "text/x-python",
   "name": "python",
   "nbconvert_exporter": "python",
   "pygments_lexer": "ipython3",
   "version": "3.10.9"
  },
  "orig_nbformat": 4
 },
 "nbformat": 4,
 "nbformat_minor": 2
}
